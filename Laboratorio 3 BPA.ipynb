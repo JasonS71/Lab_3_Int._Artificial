{
 "cells": [
  {
   "cell_type": "code",
   "execution_count": 44,
   "id": "d0e4e268",
   "metadata": {},
   "outputs": [],
   "source": [
    "class Nodo:\n",
    "    def __init__(self, datos, hijo=None):\n",
    "        self.datos = datos\n",
    "        self.hijos = []\n",
    "        self.padre = None\n",
    "        self.costo = None\n",
    "        self.set_hijo(hijo)\n",
    "        \n",
    "    def set_hijo(self, hijo):\n",
    "        if (hijo is not None):\n",
    "            self.hijos.append(hijo)\n",
    "            if self.hijos is not None:\n",
    "                for h in self.hijos:\n",
    "                    h.padre = self\n",
    "                \n",
    "    def get_hijos(self):\n",
    "        return self.hijos\n",
    "    \n",
    "    def set_padre(self, padre):\n",
    "        self.padre = padre\n",
    "        \n",
    "    def get_padre(self):\n",
    "        return self.padre\n",
    "\n",
    "    def set_datos(self, datos):\n",
    "        self.datos = datos\n",
    "    \n",
    "    def get_datos(self):\n",
    "        return self.datos\n",
    "    \n",
    "    def set_costo(self, costo):\n",
    "        self.costo = costo\n",
    "        \n",
    "    def get_costo(self):\n",
    "        return self.costo\n",
    "    \n",
    "    def equal(self, nodo):\n",
    "        if self.get_datos() == nodo.get_datos():\n",
    "            return True\n",
    "        else:\n",
    "            return False\n",
    "    \n",
    "    def en_lista(self, lista_nodos):\n",
    "        enlistado = False\n",
    "        for n in lista_nodos:\n",
    "            if self.equal(n):\n",
    "                enlistado = True\n",
    "        return enlistado\n",
    "    \n",
    "    def __str__(self):\n",
    "        return str(self.get_datos())"
   ]
  },
  {
   "cell_type": "code",
   "execution_count": 45,
   "id": "a679e621",
   "metadata": {},
   "outputs": [],
   "source": [
    "def bpa(estado_inicio, estado_solucion):\n",
    "    resuelto = False\n",
    "    nodos_visitados = []\n",
    "    nodos_frontera = []\n",
    "    nodo_inicio = Nodo(estado_inicio)\n",
    "    nodos_frontera.append(nodo_inicio)\n",
    "    \n",
    "    while resuelto == False and len(nodos_frontera) != 0:\n",
    "        nodo_actual = nodos_frontera.pop(0)          #Lista FIFO  (Pila)\n",
    "        # nodo_actual = nodos_frontera.pop()           #Lista LIFO  (Cola)\n",
    "        nodos_visitados.append(nodo_actual)\n",
    "        \n",
    "        if nodo_actual.get_datos() == estado_solucion:\n",
    "            resuelto = True\n",
    "            return nodo_actual\n",
    "        else:\n",
    "            conseguir_hijos(nodo_actual, nodos_visitados, nodos_frontera)\n",
    "\n",
    "def conseguir_hijos(padre, nodos_visitados, nodos_frontera):\n",
    "    cantidad_hijos = len(padre.get_datos().copy())-1\n",
    "    for hijos_conseguidos in range (0,cantidad_hijos):\n",
    "        hijo_n_datos = padre.get_datos().copy()\n",
    "        temp = hijo_n_datos[hijos_conseguidos]    \n",
    "        hijo_n_datos[hijos_conseguidos] = hijo_n_datos[hijos_conseguidos+1]\n",
    "        hijo_n_datos[hijos_conseguidos+1] = temp\n",
    "        hijo_n = Nodo(hijo_n_datos)\n",
    "        if not hijo_n.en_lista(nodos_visitados) and not hijo_n.en_lista(nodos_frontera):\n",
    "            padre.set_hijo(hijo_n)\n",
    "            nodos_frontera.append(hijo_n)"
   ]
  },
  {
   "cell_type": "code",
   "execution_count": 46,
   "id": "ae74c57e",
   "metadata": {},
   "outputs": [
    {
     "name": "stdout",
     "output_type": "stream",
     "text": [
      "[[5, 4, 3, 2, 1], [5, 4, 3, 1, 2], [5, 4, 1, 3, 2], [5, 4, 1, 2, 3], [5, 4, 2, 1, 3], [5, 2, 4, 1, 3], [5, 2, 4, 3, 1], [5, 2, 3, 4, 1], [5, 2, 3, 1, 4], [5, 2, 1, 3, 4], [5, 1, 2, 3, 4], [5, 1, 2, 4, 3], [1, 5, 2, 4, 3], [1, 5, 4, 2, 3], [1, 5, 4, 3, 2], [1, 5, 3, 4, 2], [1, 5, 3, 2, 4], [1, 3, 5, 2, 4], [1, 3, 2, 5, 4], [1, 3, 2, 4, 5], [1, 2, 3, 4, 5]]\n"
     ]
    }
   ],
   "source": [
    "if __name__ == \"__main__\":\n",
    "    # estado_inicial = [4, 3, 2, 1, 5, 6, 7, 8, 9, 10] # 13 segundos\n",
    "    # solucion = [1, 2, 3, 4, 5, 6, 7, 8, 9, 10]\n",
    "\n",
    "    estado_inicial = [5, 4, 3, 2, 1] # 0,1 segundo\n",
    "    solucion = [1, 2, 3, 4, 5]\n",
    "\n",
    "    # estado_inicial = [4, 3, 2, 1, 5, 6, 7, 8, 9, 10, 11, 12, 13, 14 ,15] # 17 minutos\n",
    "    # solucion = [1, 2, 3, 4, 5, 6, 7, 8, 9, 10, 11, 12, 13, 14, 15]\n",
    "\n",
    "    nodo_solucion = bpa(estado_inicial, solucion)\n",
    "\n",
    "    # mostrar resultado\n",
    "    resultado = []\n",
    "    nodo_actual = nodo_solucion\n",
    "    while nodo_actual.get_padre() is not None:\n",
    "        resultado.append(nodo_actual.get_datos())\n",
    "        nodo_actual = nodo_actual.get_padre()\n",
    "\n",
    "    resultado.append(estado_inicial)\n",
    "    resultado.reverse()\n",
    "    print(resultado)\n",
    "# 1. No es necesario introducir la cantidad de caracteres con los que se está trabajando ya que \n",
    "# el programa mismo identifica la cantidad de elementos que tiene nuestra lista y realiza las operaciones\n",
    "# para sacar la máxima cantidad de hijos posible\n",
    "# 2. El tiempo en que se tarda en llegar del estado inicial al estado solución se basa en:\n",
    "#    -> Que tan abajo está mi solución (cantidad de hijos que debe conseguir para llegar a la solución)\n",
    "#    -> La cantidad de caracteres con las que se está trabajando\n",
    "# Una manera de llegar más rápido al estado solución es no crear hijos que son innecesarios y para\n",
    "# eso tendriamos que darle pistas al programa de que camino recorrer\n",
    "# 3. Para que usemos una lista LIFO debemos borrar el \"0\" del método bpa que está marcado arriba en el programa\n",
    "# dependiendo al estado solución podría tardarse más en llegar al mismo"
   ]
  },
  {
   "cell_type": "code",
   "execution_count": null,
   "id": "dbe6be16",
   "metadata": {},
   "outputs": [],
   "source": []
  }
 ],
 "metadata": {
  "kernelspec": {
   "display_name": "Python 3.8.10 64-bit",
   "language": "python",
   "name": "python3"
  },
  "language_info": {
   "codemirror_mode": {
    "name": "ipython",
    "version": 3
   },
   "file_extension": ".py",
   "mimetype": "text/x-python",
   "name": "python",
   "nbconvert_exporter": "python",
   "pygments_lexer": "ipython3",
   "version": "3.8.10"
  },
  "vscode": {
   "interpreter": {
    "hash": "3c040059c337deb504f19c673fdcf9a2751b584394b1f9883eb09580a791bf0c"
   }
  }
 },
 "nbformat": 4,
 "nbformat_minor": 5
}
